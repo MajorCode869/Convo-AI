{
 "cells": [
  {
   "cell_type": "code",
   "execution_count": 1,
   "id": "c296ec5b",
   "metadata": {
    "_cell_guid": "b1076dfc-b9ad-4769-8c92-a6c4dae69d19",
    "_uuid": "8f2839f25d086af736a60e9eeb907d3b93b6e0e5",
    "execution": {
     "iopub.execute_input": "2023-02-04T09:07:56.527190Z",
     "iopub.status.busy": "2023-02-04T09:07:56.526563Z",
     "iopub.status.idle": "2023-02-04T09:07:56.548913Z",
     "shell.execute_reply": "2023-02-04T09:07:56.547920Z"
    },
    "papermill": {
     "duration": 0.035481,
     "end_time": "2023-02-04T09:07:56.551878",
     "exception": false,
     "start_time": "2023-02-04T09:07:56.516397",
     "status": "completed"
    },
    "tags": []
   },
   "outputs": [
    {
     "name": "stdout",
     "output_type": "stream",
     "text": [
      "/kaggle/input/encoded-vector/encoded_vector.pkl\n"
     ]
    }
   ],
   "source": [
    "# This Python 3 environment comes with many helpful analytics libraries installed\n",
    "# It is defined by the kaggle/python Docker image: https://github.com/kaggle/docker-python\n",
    "# For example, here's several helpful packages to load\n",
    "\n",
    "import numpy as np # linear algebra\n",
    "import pandas as pd # data processing, CSV file I/O (e.g. pd.read_csv)\n",
    "\n",
    "# Input data files are available in the read-only \"../input/\" directory\n",
    "# For example, running this (by clicking run or pressing Shift+Enter) will list all files under the input directory\n",
    "\n",
    "import os\n",
    "for dirname, _, filenames in os.walk('/kaggle/input'):\n",
    "    for filename in filenames:\n",
    "        print(os.path.join(dirname, filename))\n",
    "\n",
    "# You can write up to 20GB to the current directory (/kaggle/working/) that gets preserved as output when you create a version using \"Save & Run All\" \n",
    "# You can also write temporary files to /kaggle/temp/, but they won't be saved outside of the current session"
   ]
  },
  {
   "cell_type": "code",
   "execution_count": 2,
   "id": "c3f39c18",
   "metadata": {
    "execution": {
     "iopub.execute_input": "2023-02-04T09:07:56.568019Z",
     "iopub.status.busy": "2023-02-04T09:07:56.567295Z",
     "iopub.status.idle": "2023-02-04T09:07:57.061869Z",
     "shell.execute_reply": "2023-02-04T09:07:57.060617Z"
    },
    "papermill": {
     "duration": 0.505763,
     "end_time": "2023-02-04T09:07:57.064779",
     "exception": false,
     "start_time": "2023-02-04T09:07:56.559016",
     "status": "completed"
    },
    "tags": []
   },
   "outputs": [],
   "source": [
    "import pickle as pkl\n",
    "with open('/kaggle/input/encoded-vector/encoded_vector.pkl','rb') as f:\n",
    "    data=pkl.load(f)\n",
    "# df=pkl.load('/kaggle/input/encoded-vector/encoded_vector.pkl','rb')\n"
   ]
  },
  {
   "cell_type": "code",
   "execution_count": 3,
   "id": "618f4799",
   "metadata": {
    "execution": {
     "iopub.execute_input": "2023-02-04T09:07:57.082146Z",
     "iopub.status.busy": "2023-02-04T09:07:57.079824Z",
     "iopub.status.idle": "2023-02-04T09:07:57.103296Z",
     "shell.execute_reply": "2023-02-04T09:07:57.102090Z"
    },
    "papermill": {
     "duration": 0.034697,
     "end_time": "2023-02-04T09:07:57.106370",
     "exception": false,
     "start_time": "2023-02-04T09:07:57.071673",
     "status": "completed"
    },
    "tags": []
   },
   "outputs": [],
   "source": [
    "data=data[data.related!=2]"
   ]
  },
  {
   "cell_type": "code",
   "execution_count": 4,
   "id": "5f9989aa",
   "metadata": {
    "execution": {
     "iopub.execute_input": "2023-02-04T09:07:57.122544Z",
     "iopub.status.busy": "2023-02-04T09:07:57.121400Z",
     "iopub.status.idle": "2023-02-04T09:07:57.135036Z",
     "shell.execute_reply": "2023-02-04T09:07:57.133812Z"
    },
    "papermill": {
     "duration": 0.02435,
     "end_time": "2023-02-04T09:07:57.137496",
     "exception": false,
     "start_time": "2023-02-04T09:07:57.113146",
     "status": "completed"
    },
    "tags": []
   },
   "outputs": [],
   "source": [
    "X=data.vector\n",
    "Y=data.drop(['vector'],axis=1)"
   ]
  },
  {
   "cell_type": "code",
   "execution_count": 5,
   "id": "cecac1d5",
   "metadata": {
    "execution": {
     "iopub.execute_input": "2023-02-04T09:07:57.153444Z",
     "iopub.status.busy": "2023-02-04T09:07:57.152998Z",
     "iopub.status.idle": "2023-02-04T09:07:57.162596Z",
     "shell.execute_reply": "2023-02-04T09:07:57.161315Z"
    },
    "papermill": {
     "duration": 0.02092,
     "end_time": "2023-02-04T09:07:57.165594",
     "exception": false,
     "start_time": "2023-02-04T09:07:57.144674",
     "status": "completed"
    },
    "tags": []
   },
   "outputs": [
    {
     "data": {
      "text/plain": [
       "(26055, 36)"
      ]
     },
     "execution_count": 5,
     "metadata": {},
     "output_type": "execute_result"
    }
   ],
   "source": [
    "Y.shape"
   ]
  },
  {
   "cell_type": "code",
   "execution_count": 6,
   "id": "5def851f",
   "metadata": {
    "execution": {
     "iopub.execute_input": "2023-02-04T09:07:57.182298Z",
     "iopub.status.busy": "2023-02-04T09:07:57.181461Z",
     "iopub.status.idle": "2023-02-04T09:07:57.187150Z",
     "shell.execute_reply": "2023-02-04T09:07:57.186049Z"
    },
    "papermill": {
     "duration": 0.017058,
     "end_time": "2023-02-04T09:07:57.189807",
     "exception": false,
     "start_time": "2023-02-04T09:07:57.172749",
     "status": "completed"
    },
    "tags": []
   },
   "outputs": [],
   "source": [
    "category_names=Y.columns"
   ]
  },
  {
   "cell_type": "code",
   "execution_count": 7,
   "id": "9910f462",
   "metadata": {
    "execution": {
     "iopub.execute_input": "2023-02-04T09:07:57.208032Z",
     "iopub.status.busy": "2023-02-04T09:07:57.207188Z",
     "iopub.status.idle": "2023-02-04T09:07:57.214666Z",
     "shell.execute_reply": "2023-02-04T09:07:57.213668Z"
    },
    "papermill": {
     "duration": 0.018903,
     "end_time": "2023-02-04T09:07:57.216975",
     "exception": false,
     "start_time": "2023-02-04T09:07:57.198072",
     "status": "completed"
    },
    "tags": []
   },
   "outputs": [
    {
     "data": {
      "text/plain": [
       "Index(['related', 'request', 'offer', 'aid_related', 'medical_help',\n",
       "       'medical_products', 'search_and_rescue', 'security', 'military',\n",
       "       'child_alone', 'water', 'food', 'shelter', 'clothing', 'money',\n",
       "       'missing_people', 'refugees', 'death', 'other_aid',\n",
       "       'infrastructure_related', 'transport', 'buildings', 'electricity',\n",
       "       'tools', 'hospitals', 'shops', 'aid_centers', 'other_infrastructure',\n",
       "       'weather_related', 'floods', 'storm', 'fire', 'earthquake', 'cold',\n",
       "       'other_weather', 'direct_report'],\n",
       "      dtype='object', name=0)"
      ]
     },
     "execution_count": 7,
     "metadata": {},
     "output_type": "execute_result"
    }
   ],
   "source": [
    "category_names"
   ]
  },
  {
   "cell_type": "code",
   "execution_count": 8,
   "id": "dbd9492d",
   "metadata": {
    "execution": {
     "iopub.execute_input": "2023-02-04T09:07:57.234428Z",
     "iopub.status.busy": "2023-02-04T09:07:57.233474Z",
     "iopub.status.idle": "2023-02-04T09:07:57.245381Z",
     "shell.execute_reply": "2023-02-04T09:07:57.244230Z"
    },
    "papermill": {
     "duration": 0.024187,
     "end_time": "2023-02-04T09:07:57.248194",
     "exception": false,
     "start_time": "2023-02-04T09:07:57.224007",
     "status": "completed"
    },
    "tags": []
   },
   "outputs": [
    {
     "data": {
      "text/plain": [
       "0"
      ]
     },
     "execution_count": 8,
     "metadata": {},
     "output_type": "execute_result"
    }
   ],
   "source": [
    "((Y.values==2)==True).sum()"
   ]
  },
  {
   "cell_type": "code",
   "execution_count": 9,
   "id": "b96fce3a",
   "metadata": {
    "collapsed": true,
    "execution": {
     "iopub.execute_input": "2023-02-04T09:07:57.266665Z",
     "iopub.status.busy": "2023-02-04T09:07:57.265867Z",
     "iopub.status.idle": "2023-02-04T09:07:57.291752Z",
     "shell.execute_reply": "2023-02-04T09:07:57.290381Z"
    },
    "jupyter": {
     "outputs_hidden": true
    },
    "papermill": {
     "duration": 0.039273,
     "end_time": "2023-02-04T09:07:57.294863",
     "exception": false,
     "start_time": "2023-02-04T09:07:57.255590",
     "status": "completed"
    },
    "tags": []
   },
   "outputs": [
    {
     "name": "stdout",
     "output_type": "stream",
     "text": [
      "0        [0.19348189, 0.08318756, 0.08449622, -0.174385...\n",
      "1        [-0.077035, -0.07764, 0.20917, -0.05199, -0.06...\n",
      "2        [0.15637666, -0.08546334, -0.06660293, -0.2884...\n",
      "3        [-0.08194833, 0.017492665, 0.018433584, -0.060...\n",
      "4        [0.035553224, -0.002671669, 0.24559778, -0.178...\n",
      "                               ...                        \n",
      "26243    [-0.12471987, -0.058621537, 0.10427699, -0.133...\n",
      "26244    [-0.023403589, -0.035789352, 0.00350506, -0.18...\n",
      "26245    [-0.047739904, -0.07247719, 0.024654714, -0.07...\n",
      "26246    [6.877631e-05, -0.020845791, 0.10321016, -0.04...\n",
      "26247    [-0.0677657, -0.003936971, 0.09367299, -0.0460...\n",
      "Name: vector, Length: 26055, dtype: object\n",
      "0      related  request  offer  aid_related  medical_help  medical_products  \\\n",
      "0            1        0      0            0             0                 0   \n",
      "1            1        0      0            1             0                 0   \n",
      "2            1        0      0            0             0                 0   \n",
      "3            1        1      0            1             0                 1   \n",
      "4            1        0      0            0             0                 0   \n",
      "...        ...      ...    ...          ...           ...               ...   \n",
      "26243        0        0      0            0             0                 0   \n",
      "26244        0        0      0            0             0                 0   \n",
      "26245        1        0      0            0             0                 0   \n",
      "26246        1        0      0            1             0                 0   \n",
      "26247        1        0      0            0             0                 0   \n",
      "\n",
      "0      search_and_rescue  security  military  child_alone  ...  aid_centers  \\\n",
      "0                      0         0         0            0  ...            0   \n",
      "1                      0         0         0            0  ...            0   \n",
      "2                      0         0         0            0  ...            0   \n",
      "3                      0         0         0            0  ...            0   \n",
      "4                      0         0         0            0  ...            0   \n",
      "...                  ...       ...       ...          ...  ...          ...   \n",
      "26243                  0         0         0            0  ...            0   \n",
      "26244                  0         0         0            0  ...            0   \n",
      "26245                  0         0         0            0  ...            0   \n",
      "26246                  0         0         1            0  ...            0   \n",
      "26247                  0         0         0            0  ...            0   \n",
      "\n",
      "0      other_infrastructure  weather_related  floods  storm  fire  earthquake  \\\n",
      "0                         0                0       0      0     0           0   \n",
      "1                         0                1       0      1     0           0   \n",
      "2                         0                0       0      0     0           0   \n",
      "3                         0                0       0      0     0           0   \n",
      "4                         0                0       0      0     0           0   \n",
      "...                     ...              ...     ...    ...   ...         ...   \n",
      "26243                     0                0       0      0     0           0   \n",
      "26244                     0                0       0      0     0           0   \n",
      "26245                     0                0       0      0     0           0   \n",
      "26246                     0                0       0      0     0           0   \n",
      "26247                     0                0       0      0     0           0   \n",
      "\n",
      "0      cold  other_weather  direct_report  \n",
      "0         0              0              0  \n",
      "1         0              0              0  \n",
      "2         0              0              0  \n",
      "3         0              0              0  \n",
      "4         0              0              0  \n",
      "...     ...            ...            ...  \n",
      "26243     0              0              0  \n",
      "26244     0              0              0  \n",
      "26245     0              0              0  \n",
      "26246     0              0              0  \n",
      "26247     0              0              0  \n",
      "\n",
      "[26055 rows x 36 columns]\n"
     ]
    }
   ],
   "source": [
    "print(X)\n",
    "print(Y)"
   ]
  },
  {
   "cell_type": "markdown",
   "id": "2b44bb90",
   "metadata": {
    "papermill": {
     "duration": 0.007202,
     "end_time": "2023-02-04T09:07:57.309972",
     "exception": false,
     "start_time": "2023-02-04T09:07:57.302770",
     "status": "completed"
    },
    "tags": []
   },
   "source": [
    "# Multi-label Classification Methods\n",
    "Basically, there are three methods to solve a multi-label classification problem, namely:\n",
    "\n",
    "1. Problem Transformation\n",
    "2. Adapted Algorithm\n",
    "3. Ensemble approaches"
   ]
  },
  {
   "cell_type": "markdown",
   "id": "ec2215b7",
   "metadata": {
    "papermill": {
     "duration": 0.007024,
     "end_time": "2023-02-04T09:07:57.324305",
     "exception": false,
     "start_time": "2023-02-04T09:07:57.317281",
     "status": "completed"
    },
    "tags": []
   },
   "source": [
    "## 1. Problem Transformation:\n",
    "1. Binary Relevance\n",
    "2. Classifier Chains\n",
    "3. Label Powerset"
   ]
  },
  {
   "cell_type": "markdown",
   "id": "1618a245",
   "metadata": {
    "papermill": {
     "duration": 0.006945,
     "end_time": "2023-02-04T09:07:57.338459",
     "exception": false,
     "start_time": "2023-02-04T09:07:57.331514",
     "status": "completed"
    },
    "tags": []
   },
   "source": [
    "### Binary Relevance:\n",
    " which basically treats each label as a separate single class classification problem."
   ]
  },
  {
   "cell_type": "code",
   "execution_count": 10,
   "id": "7461f580",
   "metadata": {
    "execution": {
     "iopub.execute_input": "2023-02-04T09:07:57.355453Z",
     "iopub.status.busy": "2023-02-04T09:07:57.354337Z",
     "iopub.status.idle": "2023-02-04T09:07:58.684415Z",
     "shell.execute_reply": "2023-02-04T09:07:58.683470Z"
    },
    "papermill": {
     "duration": 1.341687,
     "end_time": "2023-02-04T09:07:58.687368",
     "exception": false,
     "start_time": "2023-02-04T09:07:57.345681",
     "status": "completed"
    },
    "tags": []
   },
   "outputs": [],
   "source": [
    "import skmultilearn\n",
    "from skmultilearn.adapt import MLkNN\n",
    "from skmultilearn.problem_transform import BinaryRelevance,ClassifierChain,LabelPowerset\n",
    "from sklearn.model_selection import StratifiedShuffleSplit,StratifiedGroupKFold,StratifiedKFold,train_test_split\n",
    "from sklearn.metrics import accuracy_score,classification_report"
   ]
  },
  {
   "cell_type": "code",
   "execution_count": 11,
   "id": "26fc91cb",
   "metadata": {
    "execution": {
     "iopub.execute_input": "2023-02-04T09:07:58.704323Z",
     "iopub.status.busy": "2023-02-04T09:07:58.703668Z",
     "iopub.status.idle": "2023-02-04T09:07:58.724339Z",
     "shell.execute_reply": "2023-02-04T09:07:58.723292Z"
    },
    "papermill": {
     "duration": 0.032061,
     "end_time": "2023-02-04T09:07:58.727049",
     "exception": false,
     "start_time": "2023-02-04T09:07:58.694988",
     "status": "completed"
    },
    "tags": []
   },
   "outputs": [],
   "source": [
    "X_train,X_test,y_train,y_test=train_test_split(X,Y)"
   ]
  },
  {
   "cell_type": "code",
   "execution_count": 12,
   "id": "d71d94fe",
   "metadata": {
    "execution": {
     "iopub.execute_input": "2023-02-04T09:07:58.744187Z",
     "iopub.status.busy": "2023-02-04T09:07:58.742896Z",
     "iopub.status.idle": "2023-02-04T09:07:58.748177Z",
     "shell.execute_reply": "2023-02-04T09:07:58.747403Z"
    },
    "papermill": {
     "duration": 0.016024,
     "end_time": "2023-02-04T09:07:58.750405",
     "exception": false,
     "start_time": "2023-02-04T09:07:58.734381",
     "status": "completed"
    },
    "tags": []
   },
   "outputs": [],
   "source": [
    "# sss=StratifiedShuffleSplit(n_splits=4,test_size=0.2,random_state=200)\n"
   ]
  },
  {
   "cell_type": "code",
   "execution_count": 13,
   "id": "b9749ee5",
   "metadata": {
    "execution": {
     "iopub.execute_input": "2023-02-04T09:07:58.767488Z",
     "iopub.status.busy": "2023-02-04T09:07:58.766237Z",
     "iopub.status.idle": "2023-02-04T09:07:58.776670Z",
     "shell.execute_reply": "2023-02-04T09:07:58.775724Z"
    },
    "papermill": {
     "duration": 0.021461,
     "end_time": "2023-02-04T09:07:58.779122",
     "exception": false,
     "start_time": "2023-02-04T09:07:58.757661",
     "status": "completed"
    },
    "tags": []
   },
   "outputs": [],
   "source": [
    "from sklearn.neighbors import KNeighborsClassifier\n",
    "from sklearn.naive_bayes import GaussianNB\n",
    "from sklearn.multioutput import MultiOutputClassifier"
   ]
  },
  {
   "cell_type": "code",
   "execution_count": 14,
   "id": "d9cd084c",
   "metadata": {
    "execution": {
     "iopub.execute_input": "2023-02-04T09:07:58.796505Z",
     "iopub.status.busy": "2023-02-04T09:07:58.795656Z",
     "iopub.status.idle": "2023-02-04T09:07:58.800039Z",
     "shell.execute_reply": "2023-02-04T09:07:58.799254Z"
    },
    "papermill": {
     "duration": 0.015669,
     "end_time": "2023-02-04T09:07:58.802377",
     "exception": false,
     "start_time": "2023-02-04T09:07:58.786708",
     "status": "completed"
    },
    "tags": []
   },
   "outputs": [],
   "source": [
    "clf_knn=KNeighborsClassifier()\n",
    "multi_clf=MultiOutputClassifier(clf_knn)"
   ]
  },
  {
   "cell_type": "code",
   "execution_count": 15,
   "id": "cd1a025b",
   "metadata": {
    "execution": {
     "iopub.execute_input": "2023-02-04T09:07:58.819068Z",
     "iopub.status.busy": "2023-02-04T09:07:58.818651Z",
     "iopub.status.idle": "2023-02-04T09:07:58.825042Z",
     "shell.execute_reply": "2023-02-04T09:07:58.824257Z"
    },
    "papermill": {
     "duration": 0.017687,
     "end_time": "2023-02-04T09:07:58.827246",
     "exception": false,
     "start_time": "2023-02-04T09:07:58.809559",
     "status": "completed"
    },
    "tags": []
   },
   "outputs": [
    {
     "data": {
      "text/plain": [
       "(19541,)"
      ]
     },
     "execution_count": 15,
     "metadata": {},
     "output_type": "execute_result"
    }
   ],
   "source": [
    "X_train.shape"
   ]
  },
  {
   "cell_type": "code",
   "execution_count": 16,
   "id": "646bcb82",
   "metadata": {
    "execution": {
     "iopub.execute_input": "2023-02-04T09:07:58.844370Z",
     "iopub.status.busy": "2023-02-04T09:07:58.843668Z",
     "iopub.status.idle": "2023-02-04T09:07:58.897570Z",
     "shell.execute_reply": "2023-02-04T09:07:58.896502Z"
    },
    "papermill": {
     "duration": 0.065913,
     "end_time": "2023-02-04T09:07:58.900607",
     "exception": false,
     "start_time": "2023-02-04T09:07:58.834694",
     "status": "completed"
    },
    "tags": []
   },
   "outputs": [],
   "source": [
    "X_train_v=(np.vstack(X_train.values))\n"
   ]
  },
  {
   "cell_type": "code",
   "execution_count": 17,
   "id": "bbc7833d",
   "metadata": {
    "execution": {
     "iopub.execute_input": "2023-02-04T09:07:58.917282Z",
     "iopub.status.busy": "2023-02-04T09:07:58.916834Z",
     "iopub.status.idle": "2023-02-04T09:07:58.939892Z",
     "shell.execute_reply": "2023-02-04T09:07:58.938706Z"
    },
    "papermill": {
     "duration": 0.034591,
     "end_time": "2023-02-04T09:07:58.942682",
     "exception": false,
     "start_time": "2023-02-04T09:07:58.908091",
     "status": "completed"
    },
    "tags": []
   },
   "outputs": [],
   "source": [
    "X_test_v=np.vstack(X_test.values)"
   ]
  },
  {
   "cell_type": "code",
   "execution_count": 18,
   "id": "21e6a10d",
   "metadata": {
    "execution": {
     "iopub.execute_input": "2023-02-04T09:07:58.959875Z",
     "iopub.status.busy": "2023-02-04T09:07:58.959459Z",
     "iopub.status.idle": "2023-02-04T09:07:59.239503Z",
     "shell.execute_reply": "2023-02-04T09:07:59.238196Z"
    },
    "papermill": {
     "duration": 0.292308,
     "end_time": "2023-02-04T09:07:59.242452",
     "exception": false,
     "start_time": "2023-02-04T09:07:58.950144",
     "status": "completed"
    },
    "tags": []
   },
   "outputs": [
    {
     "data": {
      "text/plain": [
       "MultiOutputClassifier(estimator=KNeighborsClassifier())"
      ]
     },
     "execution_count": 18,
     "metadata": {},
     "output_type": "execute_result"
    }
   ],
   "source": [
    "multi_clf.fit(X_train_v,y_train)\n"
   ]
  },
  {
   "cell_type": "code",
   "execution_count": 19,
   "id": "2609118b",
   "metadata": {
    "execution": {
     "iopub.execute_input": "2023-02-04T09:07:59.261122Z",
     "iopub.status.busy": "2023-02-04T09:07:59.260008Z",
     "iopub.status.idle": "2023-02-04T09:10:51.977886Z",
     "shell.execute_reply": "2023-02-04T09:10:51.976634Z"
    },
    "papermill": {
     "duration": 172.730476,
     "end_time": "2023-02-04T09:10:51.981073",
     "exception": false,
     "start_time": "2023-02-04T09:07:59.250597",
     "status": "completed"
    },
    "tags": []
   },
   "outputs": [],
   "source": [
    "y_pred=multi_clf.predict(X_test_v)"
   ]
  },
  {
   "cell_type": "code",
   "execution_count": 20,
   "id": "4a21d500",
   "metadata": {
    "collapsed": true,
    "execution": {
     "iopub.execute_input": "2023-02-04T09:10:51.998032Z",
     "iopub.status.busy": "2023-02-04T09:10:51.997611Z",
     "iopub.status.idle": "2023-02-04T09:10:52.063517Z",
     "shell.execute_reply": "2023-02-04T09:10:52.062253Z"
    },
    "jupyter": {
     "outputs_hidden": true
    },
    "papermill": {
     "duration": 0.077698,
     "end_time": "2023-02-04T09:10:52.066534",
     "exception": false,
     "start_time": "2023-02-04T09:10:51.988836",
     "status": "completed"
    },
    "tags": []
   },
   "outputs": [
    {
     "name": "stdout",
     "output_type": "stream",
     "text": [
      "                        precision    recall  f1-score   support\n",
      "\n",
      "               related       0.80      0.95      0.87      4989\n",
      "               request       0.56      0.45      0.50      1149\n",
      "                 offer       0.00      0.00      0.00        30\n",
      "           aid_related       0.52      0.80      0.63      2693\n",
      "          medical_help       0.17      0.32      0.22       519\n",
      "      medical_products       0.13      0.31      0.18       295\n",
      "     search_and_rescue       0.05      0.01      0.02       183\n",
      "              security       0.00      0.00      0.00       113\n",
      "              military       0.22      0.13      0.16       214\n",
      "           child_alone       0.00      0.00      0.00         0\n",
      "                 water       0.14      0.34      0.20       395\n",
      "                  food       0.34      0.57      0.43       730\n",
      "               shelter       0.21      0.40      0.28       584\n",
      "              clothing       0.21      0.09      0.12       105\n",
      "                 money       0.18      0.08      0.11       144\n",
      "        missing_people       0.00      0.00      0.00        79\n",
      "              refugees       0.07      0.11      0.09       207\n",
      "                 death       0.19      0.33      0.25       266\n",
      "             other_aid       0.23      0.15      0.18       881\n",
      "infrastructure_related       0.12      0.16      0.14       410\n",
      "             transport       0.12      0.12      0.12       296\n",
      "             buildings       0.14      0.22      0.17       298\n",
      "           electricity       0.21      0.10      0.14       140\n",
      "                 tools       0.00      0.00      0.00        40\n",
      "             hospitals       0.00      0.00      0.00        67\n",
      "                 shops       0.00      0.00      0.00        30\n",
      "           aid_centers       0.03      0.03      0.03        90\n",
      "  other_infrastructure       0.09      0.07      0.08       270\n",
      "       weather_related       0.44      0.66      0.53      1817\n",
      "                floods       0.21      0.52      0.30       510\n",
      "                 storm       0.27      0.46      0.34       621\n",
      "                  fire       0.12      0.05      0.07        64\n",
      "            earthquake       0.25      0.33      0.29       607\n",
      "                  cold       0.19      0.14      0.16       126\n",
      "         other_weather       0.12      0.06      0.08       330\n",
      "         direct_report       0.58      0.38      0.46      1297\n",
      "\n",
      "             micro avg       0.44      0.56      0.49     20589\n",
      "             macro avg       0.19      0.23      0.20     20589\n",
      "          weighted avg       0.45      0.56      0.48     20589\n",
      "           samples avg       0.49      0.50      0.42     20589\n",
      "\n"
     ]
    },
    {
     "name": "stderr",
     "output_type": "stream",
     "text": [
      "/opt/conda/lib/python3.7/site-packages/sklearn/metrics/_classification.py:1318: UndefinedMetricWarning: Precision and F-score are ill-defined and being set to 0.0 in labels with no predicted samples. Use `zero_division` parameter to control this behavior.\n",
      "  _warn_prf(average, modifier, msg_start, len(result))\n",
      "/opt/conda/lib/python3.7/site-packages/sklearn/metrics/_classification.py:1318: UndefinedMetricWarning: Recall and F-score are ill-defined and being set to 0.0 in labels with no true samples. Use `zero_division` parameter to control this behavior.\n",
      "  _warn_prf(average, modifier, msg_start, len(result))\n",
      "/opt/conda/lib/python3.7/site-packages/sklearn/metrics/_classification.py:1318: UndefinedMetricWarning: Precision and F-score are ill-defined and being set to 0.0 in samples with no predicted labels. Use `zero_division` parameter to control this behavior.\n",
      "  _warn_prf(average, modifier, msg_start, len(result))\n",
      "/opt/conda/lib/python3.7/site-packages/sklearn/metrics/_classification.py:1318: UndefinedMetricWarning: Recall and F-score are ill-defined and being set to 0.0 in samples with no true labels. Use `zero_division` parameter to control this behavior.\n",
      "  _warn_prf(average, modifier, msg_start, len(result))\n"
     ]
    }
   ],
   "source": [
    "print(classification_report(y_test,y_pred,target_names=category_names))"
   ]
  },
  {
   "cell_type": "code",
   "execution_count": 21,
   "id": "6bc0a768",
   "metadata": {
    "execution": {
     "iopub.execute_input": "2023-02-04T09:10:52.085280Z",
     "iopub.status.busy": "2023-02-04T09:10:52.084832Z",
     "iopub.status.idle": "2023-02-04T09:10:52.110963Z",
     "shell.execute_reply": "2023-02-04T09:10:52.109693Z"
    },
    "papermill": {
     "duration": 0.038421,
     "end_time": "2023-02-04T09:10:52.113448",
     "exception": false,
     "start_time": "2023-02-04T09:10:52.075027",
     "status": "completed"
    },
    "tags": []
   },
   "outputs": [
    {
     "data": {
      "text/plain": [
       "0.12803193122505374"
      ]
     },
     "execution_count": 21,
     "metadata": {},
     "output_type": "execute_result"
    }
   ],
   "source": [
    "accuracy_score(y_test,y_pred)"
   ]
  },
  {
   "cell_type": "code",
   "execution_count": 22,
   "id": "9abcca94",
   "metadata": {
    "execution": {
     "iopub.execute_input": "2023-02-04T09:10:52.131655Z",
     "iopub.status.busy": "2023-02-04T09:10:52.131253Z",
     "iopub.status.idle": "2023-02-04T09:10:52.136711Z",
     "shell.execute_reply": "2023-02-04T09:10:52.135410Z"
    },
    "papermill": {
     "duration": 0.017413,
     "end_time": "2023-02-04T09:10:52.139135",
     "exception": false,
     "start_time": "2023-02-04T09:10:52.121722",
     "status": "completed"
    },
    "tags": []
   },
   "outputs": [],
   "source": [
    "# classifier=MLkNN(k=20)\n",
    "# classifier.fit(X_train.values,y_train.values)\n",
    "# classifier.predict(X_test)"
   ]
  },
  {
   "cell_type": "code",
   "execution_count": 23,
   "id": "2c7a5de6",
   "metadata": {
    "collapsed": true,
    "execution": {
     "iopub.execute_input": "2023-02-04T09:10:52.158151Z",
     "iopub.status.busy": "2023-02-04T09:10:52.157751Z",
     "iopub.status.idle": "2023-02-04T09:10:52.164020Z",
     "shell.execute_reply": "2023-02-04T09:10:52.162733Z"
    },
    "jupyter": {
     "outputs_hidden": true
    },
    "papermill": {
     "duration": 0.018638,
     "end_time": "2023-02-04T09:10:52.166487",
     "exception": false,
     "start_time": "2023-02-04T09:10:52.147849",
     "status": "completed"
    },
    "tags": []
   },
   "outputs": [],
   "source": [
    "# clf=GaussianNB()\n",
    "# br=ClassifierChain(clf)\n",
    "# br.fit(X_train,y_train)\n",
    "# # br.fit(X_train,y_train)\n",
    "\n",
    "# print(accuracy_score(y_test,br.predict(X_test)))\n",
    "\n",
    "\n",
    "# # for train_index, test_index in sss.split(X, Y):\n",
    "# #      print(\"TRAIN:\", train_index, \"TEST:\", test_index)\n",
    "# #      X_train, X_test = X[train_index], X[test_index]\n",
    "# #      y_train, y_test = Y[train_index], Y[test_index]\n",
    "# #      br.fit(X_train,y_train)\n",
    "# #      print(accuracy_score(y_test,br.predict(X_test)))\n",
    "        \n",
    "# # ValueError: The least populated class in y has only 1 member, \n",
    "# # which is too few. The minimum number of groups\n",
    "# # for any class cannot be less than 2.     "
   ]
  },
  {
   "cell_type": "code",
   "execution_count": null,
   "id": "ebd55301",
   "metadata": {
    "execution": {
     "iopub.execute_input": "2023-02-03T18:46:29.383165Z",
     "iopub.status.busy": "2023-02-03T18:46:29.382736Z",
     "iopub.status.idle": "2023-02-03T18:46:29.388472Z",
     "shell.execute_reply": "2023-02-03T18:46:29.387455Z",
     "shell.execute_reply.started": "2023-02-03T18:46:29.383134Z"
    },
    "papermill": {
     "duration": 0.007563,
     "end_time": "2023-02-04T09:10:52.182046",
     "exception": false,
     "start_time": "2023-02-04T09:10:52.174483",
     "status": "completed"
    },
    "tags": []
   },
   "outputs": [],
   "source": [
    "\n"
   ]
  }
 ],
 "metadata": {
  "kernelspec": {
   "display_name": "Python 3",
   "language": "python",
   "name": "python3"
  },
  "language_info": {
   "codemirror_mode": {
    "name": "ipython",
    "version": 3
   },
   "file_extension": ".py",
   "mimetype": "text/x-python",
   "name": "python",
   "nbconvert_exporter": "python",
   "pygments_lexer": "ipython3",
   "version": "3.7.12"
  },
  "papermill": {
   "default_parameters": {},
   "duration": 185.920905,
   "end_time": "2023-02-04T09:10:53.012780",
   "environment_variables": {},
   "exception": null,
   "input_path": "__notebook__.ipynb",
   "output_path": "__notebook__.ipynb",
   "parameters": {},
   "start_time": "2023-02-04T09:07:47.091875",
   "version": "2.3.4"
  }
 },
 "nbformat": 4,
 "nbformat_minor": 5
}
