{
 "cells": [
  {
   "cell_type": "code",
   "execution_count": 1,
   "id": "9f07cb17",
   "metadata": {
    "_cell_guid": "b1076dfc-b9ad-4769-8c92-a6c4dae69d19",
    "_uuid": "8f2839f25d086af736a60e9eeb907d3b93b6e0e5",
    "execution": {
     "iopub.execute_input": "2023-02-05T10:20:38.398585Z",
     "iopub.status.busy": "2023-02-05T10:20:38.398043Z",
     "iopub.status.idle": "2023-02-05T10:20:38.419420Z",
     "shell.execute_reply": "2023-02-05T10:20:38.418220Z"
    },
    "papermill": {
     "duration": 0.034408,
     "end_time": "2023-02-05T10:20:38.421861",
     "exception": false,
     "start_time": "2023-02-05T10:20:38.387453",
     "status": "completed"
    },
    "tags": []
   },
   "outputs": [
    {
     "name": "stdout",
     "output_type": "stream",
     "text": [
      "/kaggle/input/encoded-vector/encoded_vector.pkl\n"
     ]
    }
   ],
   "source": [
    "# This Python 3 environment comes with many helpful analytics libraries installed\n",
    "# It is defined by the kaggle/python Docker image: https://github.com/kaggle/docker-python\n",
    "# For example, here's several helpful packages to load\n",
    "\n",
    "import numpy as np # linear algebra\n",
    "import pandas as pd # data processing, CSV file I/O (e.g. pd.read_csv)\n",
    "\n",
    "# Input data files are available in the read-only \"../input/\" directory\n",
    "# For example, running this (by clicking run or pressing Shift+Enter) will list all files under the input directory\n",
    "\n",
    "import os\n",
    "for dirname, _, filenames in os.walk('/kaggle/input'):\n",
    "    for filename in filenames:\n",
    "        print(os.path.join(dirname, filename))\n",
    "\n",
    "# You can write up to 20GB to the current directory (/kaggle/working/) that gets preserved as output when you create a version using \"Save & Run All\" \n",
    "# You can also write temporary files to /kaggle/temp/, but they won't be saved outside of the current session"
   ]
  },
  {
   "cell_type": "markdown",
   "id": "cae6a80c",
   "metadata": {
    "papermill": {
     "duration": 0.007547,
     "end_time": "2023-02-05T10:20:38.437337",
     "exception": false,
     "start_time": "2023-02-05T10:20:38.429790",
     "status": "completed"
    },
    "tags": []
   },
   "source": [
    "--SAFETY--\n",
    "security \n",
    "military\n",
    "\n",
    "--MEDICAL--\n",
    "aid related\n",
    "medical product\n",
    "medical help\n",
    "\n",
    "--ESSENTIALS--\n",
    "food \n",
    "water\n",
    "shelter \n",
    "\n",
    "--DISTINCT--\n",
    "clothing\n",
    "relted \n",
    "request\n",
    "search and rescue\n",
    "death\n",
    "money\n",
    "direct report\n",
    "offer\n",
    "\n",
    "--AID--\n",
    "aid centre\n",
    "other aid\n",
    "aid related\n",
    "\n",
    "--PEOPLE--\n",
    "missing people\n",
    "refugee\n",
    "child missing\n",
    "\n",
    "--INFRASTRUCTURE--\n",
    "building\n",
    "infra related\n",
    "transport\n",
    "tools\n",
    "shops\n",
    "electricity\n",
    "other infra\n",
    "hospitals\n",
    "\n",
    "--NATURAL CALAMITIES--\n",
    "storm\n",
    "fire\n",
    "cold\n",
    "earthquake\n",
    "other weather\n",
    "floods"
   ]
  },
  {
   "cell_type": "code",
   "execution_count": 2,
   "id": "357dfa80",
   "metadata": {
    "execution": {
     "iopub.execute_input": "2023-02-05T10:20:38.455689Z",
     "iopub.status.busy": "2023-02-05T10:20:38.454372Z",
     "iopub.status.idle": "2023-02-05T10:20:38.985808Z",
     "shell.execute_reply": "2023-02-05T10:20:38.984731Z"
    },
    "papermill": {
     "duration": 0.542937,
     "end_time": "2023-02-05T10:20:38.988238",
     "exception": false,
     "start_time": "2023-02-05T10:20:38.445301",
     "status": "completed"
    },
    "tags": []
   },
   "outputs": [],
   "source": [
    "import pickle as pkl\n",
    "data=pkl.load(open('/kaggle/input/encoded-vector/encoded_vector.pkl','rb'))"
   ]
  },
  {
   "cell_type": "code",
   "execution_count": 3,
   "id": "a8591746",
   "metadata": {
    "execution": {
     "iopub.execute_input": "2023-02-05T10:20:39.006928Z",
     "iopub.status.busy": "2023-02-05T10:20:39.006182Z",
     "iopub.status.idle": "2023-02-05T10:20:39.014966Z",
     "shell.execute_reply": "2023-02-05T10:20:39.014031Z"
    },
    "papermill": {
     "duration": 0.020025,
     "end_time": "2023-02-05T10:20:39.017093",
     "exception": false,
     "start_time": "2023-02-05T10:20:38.997068",
     "status": "completed"
    },
    "tags": []
   },
   "outputs": [
    {
     "data": {
      "text/plain": [
       "Index(['related', 'request', 'offer', 'aid_related', 'medical_help',\n",
       "       'medical_products', 'search_and_rescue', 'security', 'military',\n",
       "       'child_alone', 'water', 'food', 'shelter', 'clothing', 'money',\n",
       "       'missing_people', 'refugees', 'death', 'other_aid',\n",
       "       'infrastructure_related', 'transport', 'buildings', 'electricity',\n",
       "       'tools', 'hospitals', 'shops', 'aid_centers', 'other_infrastructure',\n",
       "       'weather_related', 'floods', 'storm', 'fire', 'earthquake', 'cold',\n",
       "       'other_weather', 'direct_report', 'vector'],\n",
       "      dtype='object', name=0)"
      ]
     },
     "execution_count": 3,
     "metadata": {},
     "output_type": "execute_result"
    }
   ],
   "source": [
    "data.columns"
   ]
  },
  {
   "cell_type": "markdown",
   "id": "263b2e53",
   "metadata": {
    "papermill": {
     "duration": 0.007633,
     "end_time": "2023-02-05T10:20:39.032943",
     "exception": false,
     "start_time": "2023-02-05T10:20:39.025310",
     "status": "completed"
    },
    "tags": []
   },
   "source": [
    "# Feature Engineering"
   ]
  },
  {
   "cell_type": "markdown",
   "id": "2b8b5606",
   "metadata": {
    "papermill": {
     "duration": 0.007692,
     "end_time": "2023-02-05T10:20:39.048707",
     "exception": false,
     "start_time": "2023-02-05T10:20:39.041015",
     "status": "completed"
    },
    "tags": []
   },
   "source": [
    "### --SAFETY-- security military"
   ]
  },
  {
   "cell_type": "code",
   "execution_count": 4,
   "id": "8b401276",
   "metadata": {
    "execution": {
     "iopub.execute_input": "2023-02-05T10:20:39.066130Z",
     "iopub.status.busy": "2023-02-05T10:20:39.065678Z",
     "iopub.status.idle": "2023-02-05T10:20:39.091749Z",
     "shell.execute_reply": "2023-02-05T10:20:39.090461Z"
    },
    "papermill": {
     "duration": 0.038057,
     "end_time": "2023-02-05T10:20:39.094595",
     "exception": false,
     "start_time": "2023-02-05T10:20:39.056538",
     "status": "completed"
    },
    "tags": []
   },
   "outputs": [
    {
     "data": {
      "text/html": [
       "<div>\n",
       "<style scoped>\n",
       "    .dataframe tbody tr th:only-of-type {\n",
       "        vertical-align: middle;\n",
       "    }\n",
       "\n",
       "    .dataframe tbody tr th {\n",
       "        vertical-align: top;\n",
       "    }\n",
       "\n",
       "    .dataframe thead th {\n",
       "        text-align: right;\n",
       "    }\n",
       "</style>\n",
       "<table border=\"1\" class=\"dataframe\">\n",
       "  <thead>\n",
       "    <tr style=\"text-align: right;\">\n",
       "      <th></th>\n",
       "      <th>security</th>\n",
       "      <th>military</th>\n",
       "    </tr>\n",
       "  </thead>\n",
       "  <tbody>\n",
       "    <tr>\n",
       "      <th>0</th>\n",
       "      <td>0</td>\n",
       "      <td>0</td>\n",
       "    </tr>\n",
       "    <tr>\n",
       "      <th>1</th>\n",
       "      <td>0</td>\n",
       "      <td>0</td>\n",
       "    </tr>\n",
       "    <tr>\n",
       "      <th>2</th>\n",
       "      <td>0</td>\n",
       "      <td>0</td>\n",
       "    </tr>\n",
       "    <tr>\n",
       "      <th>3</th>\n",
       "      <td>0</td>\n",
       "      <td>0</td>\n",
       "    </tr>\n",
       "    <tr>\n",
       "      <th>4</th>\n",
       "      <td>0</td>\n",
       "      <td>0</td>\n",
       "    </tr>\n",
       "    <tr>\n",
       "      <th>...</th>\n",
       "      <td>...</td>\n",
       "      <td>...</td>\n",
       "    </tr>\n",
       "    <tr>\n",
       "      <th>26243</th>\n",
       "      <td>0</td>\n",
       "      <td>0</td>\n",
       "    </tr>\n",
       "    <tr>\n",
       "      <th>26244</th>\n",
       "      <td>0</td>\n",
       "      <td>0</td>\n",
       "    </tr>\n",
       "    <tr>\n",
       "      <th>26245</th>\n",
       "      <td>0</td>\n",
       "      <td>0</td>\n",
       "    </tr>\n",
       "    <tr>\n",
       "      <th>26246</th>\n",
       "      <td>0</td>\n",
       "      <td>1</td>\n",
       "    </tr>\n",
       "    <tr>\n",
       "      <th>26247</th>\n",
       "      <td>0</td>\n",
       "      <td>0</td>\n",
       "    </tr>\n",
       "  </tbody>\n",
       "</table>\n",
       "<p>26248 rows × 2 columns</p>\n",
       "</div>"
      ],
      "text/plain": [
       "0      security  military\n",
       "0             0         0\n",
       "1             0         0\n",
       "2             0         0\n",
       "3             0         0\n",
       "4             0         0\n",
       "...         ...       ...\n",
       "26243         0         0\n",
       "26244         0         0\n",
       "26245         0         0\n",
       "26246         0         1\n",
       "26247         0         0\n",
       "\n",
       "[26248 rows x 2 columns]"
      ]
     },
     "execution_count": 4,
     "metadata": {},
     "output_type": "execute_result"
    }
   ],
   "source": [
    "data[['security','military']]"
   ]
  },
  {
   "cell_type": "code",
   "execution_count": 5,
   "id": "1081a28f",
   "metadata": {
    "execution": {
     "iopub.execute_input": "2023-02-05T10:20:39.114494Z",
     "iopub.status.busy": "2023-02-05T10:20:39.113583Z",
     "iopub.status.idle": "2023-02-05T10:20:39.132985Z",
     "shell.execute_reply": "2023-02-05T10:20:39.131942Z"
    },
    "papermill": {
     "duration": 0.03166,
     "end_time": "2023-02-05T10:20:39.135487",
     "exception": false,
     "start_time": "2023-02-05T10:20:39.103827",
     "status": "completed"
    },
    "tags": []
   },
   "outputs": [],
   "source": [
    "data['safety']=(data['security']+data['military']).apply(lambda x: 1 if x==2 else x)"
   ]
  },
  {
   "cell_type": "code",
   "execution_count": 6,
   "id": "bf98b0eb",
   "metadata": {
    "execution": {
     "iopub.execute_input": "2023-02-05T10:20:39.153461Z",
     "iopub.status.busy": "2023-02-05T10:20:39.153042Z",
     "iopub.status.idle": "2023-02-05T10:20:39.163128Z",
     "shell.execute_reply": "2023-02-05T10:20:39.161986Z"
    },
    "papermill": {
     "duration": 0.02196,
     "end_time": "2023-02-05T10:20:39.165491",
     "exception": false,
     "start_time": "2023-02-05T10:20:39.143531",
     "status": "completed"
    },
    "tags": []
   },
   "outputs": [
    {
     "data": {
      "text/plain": [
       "0    25032\n",
       "1     1216\n",
       "Name: safety, dtype: int64"
      ]
     },
     "execution_count": 6,
     "metadata": {},
     "output_type": "execute_result"
    }
   ],
   "source": [
    "data.safety.value_counts()"
   ]
  },
  {
   "cell_type": "markdown",
   "id": "87eaf06d",
   "metadata": {
    "execution": {
     "iopub.execute_input": "2023-02-05T08:59:08.649082Z",
     "iopub.status.busy": "2023-02-05T08:59:08.648558Z",
     "iopub.status.idle": "2023-02-05T08:59:08.656003Z",
     "shell.execute_reply": "2023-02-05T08:59:08.654847Z",
     "shell.execute_reply.started": "2023-02-05T08:59:08.649054Z"
    },
    "papermill": {
     "duration": 0.008042,
     "end_time": "2023-02-05T10:20:39.181702",
     "exception": false,
     "start_time": "2023-02-05T10:20:39.173660",
     "status": "completed"
    },
    "tags": []
   },
   "source": [
    "### --MEDICAL-- aid_related,medical_products,medical_help"
   ]
  },
  {
   "cell_type": "code",
   "execution_count": 7,
   "id": "1f642e30",
   "metadata": {
    "execution": {
     "iopub.execute_input": "2023-02-05T10:20:39.200638Z",
     "iopub.status.busy": "2023-02-05T10:20:39.199823Z",
     "iopub.status.idle": "2023-02-05T10:20:39.227145Z",
     "shell.execute_reply": "2023-02-05T10:20:39.226249Z"
    },
    "papermill": {
     "duration": 0.039725,
     "end_time": "2023-02-05T10:20:39.229933",
     "exception": false,
     "start_time": "2023-02-05T10:20:39.190208",
     "status": "completed"
    },
    "tags": []
   },
   "outputs": [],
   "source": [
    "data['medical']=(data['aid_related']+data['medical_products']+data['medical_help']).apply(lambda x: 1 if(x==2 or x==3) else x)"
   ]
  },
  {
   "cell_type": "code",
   "execution_count": 8,
   "id": "095c7d9b",
   "metadata": {
    "execution": {
     "iopub.execute_input": "2023-02-05T10:20:39.248597Z",
     "iopub.status.busy": "2023-02-05T10:20:39.247720Z",
     "iopub.status.idle": "2023-02-05T10:20:39.256238Z",
     "shell.execute_reply": "2023-02-05T10:20:39.255049Z"
    },
    "papermill": {
     "duration": 0.020584,
     "end_time": "2023-02-05T10:20:39.258715",
     "exception": false,
     "start_time": "2023-02-05T10:20:39.238131",
     "status": "completed"
    },
    "tags": []
   },
   "outputs": [
    {
     "data": {
      "text/plain": [
       "0    15370\n",
       "1    10878\n",
       "Name: medical, dtype: int64"
      ]
     },
     "execution_count": 8,
     "metadata": {},
     "output_type": "execute_result"
    }
   ],
   "source": [
    "data['medical'].value_counts()"
   ]
  },
  {
   "cell_type": "markdown",
   "id": "cd490a76",
   "metadata": {
    "papermill": {
     "duration": 0.00794,
     "end_time": "2023-02-05T10:20:39.274873",
     "exception": false,
     "start_time": "2023-02-05T10:20:39.266933",
     "status": "completed"
    },
    "tags": []
   },
   "source": [
    "### --ESSENTIALS-- food water shelter"
   ]
  },
  {
   "cell_type": "code",
   "execution_count": 9,
   "id": "04e54320",
   "metadata": {
    "execution": {
     "iopub.execute_input": "2023-02-05T10:20:39.292988Z",
     "iopub.status.busy": "2023-02-05T10:20:39.292600Z",
     "iopub.status.idle": "2023-02-05T10:20:39.311792Z",
     "shell.execute_reply": "2023-02-05T10:20:39.310616Z"
    },
    "papermill": {
     "duration": 0.03121,
     "end_time": "2023-02-05T10:20:39.314457",
     "exception": false,
     "start_time": "2023-02-05T10:20:39.283247",
     "status": "completed"
    },
    "tags": []
   },
   "outputs": [],
   "source": [
    "data['essentials']=(data['food']+data['water']+data['shelter']).apply(lambda x: 1 if(x==2 or x==3) else x)"
   ]
  },
  {
   "cell_type": "code",
   "execution_count": 10,
   "id": "360ac550",
   "metadata": {
    "execution": {
     "iopub.execute_input": "2023-02-05T10:20:39.333204Z",
     "iopub.status.busy": "2023-02-05T10:20:39.332366Z",
     "iopub.status.idle": "2023-02-05T10:20:39.341691Z",
     "shell.execute_reply": "2023-02-05T10:20:39.340636Z"
    },
    "papermill": {
     "duration": 0.021215,
     "end_time": "2023-02-05T10:20:39.343944",
     "exception": false,
     "start_time": "2023-02-05T10:20:39.322729",
     "status": "completed"
    },
    "tags": []
   },
   "outputs": [
    {
     "data": {
      "text/plain": [
       "0    21153\n",
       "1     5095\n",
       "Name: essentials, dtype: int64"
      ]
     },
     "execution_count": 10,
     "metadata": {},
     "output_type": "execute_result"
    }
   ],
   "source": [
    "data.essentials.value_counts()"
   ]
  },
  {
   "cell_type": "markdown",
   "id": "4f86b55e",
   "metadata": {
    "papermill": {
     "duration": 0.007939,
     "end_time": "2023-02-05T10:20:39.360142",
     "exception": false,
     "start_time": "2023-02-05T10:20:39.352203",
     "status": "completed"
    },
    "tags": []
   },
   "source": [
    "### --DISTINCT-- clothing, related, request, search_and_rescue,death,money direct_report, offer"
   ]
  },
  {
   "cell_type": "code",
   "execution_count": 11,
   "id": "88a4da8b",
   "metadata": {
    "execution": {
     "iopub.execute_input": "2023-02-05T10:20:39.378906Z",
     "iopub.status.busy": "2023-02-05T10:20:39.377891Z",
     "iopub.status.idle": "2023-02-05T10:20:39.402060Z",
     "shell.execute_reply": "2023-02-05T10:20:39.400988Z"
    },
    "papermill": {
     "duration": 0.036583,
     "end_time": "2023-02-05T10:20:39.405037",
     "exception": false,
     "start_time": "2023-02-05T10:20:39.368454",
     "status": "completed"
    },
    "tags": []
   },
   "outputs": [],
   "source": [
    "data['distinct']=(data['clothing']+data['related']+data['request']+data['search_and_rescue']+data['death']+data['money']+data['direct_report']+data['offer']).apply(lambda x: 1 if(x==2 or x==3 or x==4 or x==5 or x==6 or x==7) else x)\n",
    "# or x>=2"
   ]
  },
  {
   "cell_type": "code",
   "execution_count": 12,
   "id": "64c5253f",
   "metadata": {
    "execution": {
     "iopub.execute_input": "2023-02-05T10:20:39.423830Z",
     "iopub.status.busy": "2023-02-05T10:20:39.423362Z",
     "iopub.status.idle": "2023-02-05T10:20:39.433542Z",
     "shell.execute_reply": "2023-02-05T10:20:39.432122Z"
    },
    "papermill": {
     "duration": 0.022503,
     "end_time": "2023-02-05T10:20:39.436099",
     "exception": false,
     "start_time": "2023-02-05T10:20:39.413596",
     "status": "completed"
    },
    "tags": []
   },
   "outputs": [
    {
     "data": {
      "text/plain": [
       "1    20123\n",
       "0     6125\n",
       "Name: distinct, dtype: int64"
      ]
     },
     "execution_count": 12,
     "metadata": {},
     "output_type": "execute_result"
    }
   ],
   "source": [
    "data.distinct.value_counts()"
   ]
  },
  {
   "cell_type": "markdown",
   "id": "2e274324",
   "metadata": {
    "papermill": {
     "duration": 0.008087,
     "end_time": "2023-02-05T10:20:39.452877",
     "exception": false,
     "start_time": "2023-02-05T10:20:39.444790",
     "status": "completed"
    },
    "tags": []
   },
   "source": [
    "### --AID-- aid_centres, other_aid, aid_related"
   ]
  },
  {
   "cell_type": "code",
   "execution_count": 13,
   "id": "5f604d84",
   "metadata": {
    "execution": {
     "iopub.execute_input": "2023-02-05T10:20:39.471529Z",
     "iopub.status.busy": "2023-02-05T10:20:39.471067Z",
     "iopub.status.idle": "2023-02-05T10:20:39.490348Z",
     "shell.execute_reply": "2023-02-05T10:20:39.489492Z"
    },
    "papermill": {
     "duration": 0.031446,
     "end_time": "2023-02-05T10:20:39.492783",
     "exception": false,
     "start_time": "2023-02-05T10:20:39.461337",
     "status": "completed"
    },
    "tags": []
   },
   "outputs": [],
   "source": [
    "data['aid']=(data['aid_centers']+data['other_aid']+data['aid_related']).apply(lambda x: 1 if(x==2 or x==3) else x)"
   ]
  },
  {
   "cell_type": "markdown",
   "id": "da91a51a",
   "metadata": {
    "papermill": {
     "duration": 0.008749,
     "end_time": "2023-02-05T10:20:39.510299",
     "exception": false,
     "start_time": "2023-02-05T10:20:39.501550",
     "status": "completed"
    },
    "tags": []
   },
   "source": [
    "### --PEOPLE-- missing_people, refugees, child_alone"
   ]
  },
  {
   "cell_type": "code",
   "execution_count": 14,
   "id": "b9b51b56",
   "metadata": {
    "execution": {
     "iopub.execute_input": "2023-02-05T10:20:39.529537Z",
     "iopub.status.busy": "2023-02-05T10:20:39.528835Z",
     "iopub.status.idle": "2023-02-05T10:20:39.546652Z",
     "shell.execute_reply": "2023-02-05T10:20:39.545679Z"
    },
    "papermill": {
     "duration": 0.030236,
     "end_time": "2023-02-05T10:20:39.549134",
     "exception": false,
     "start_time": "2023-02-05T10:20:39.518898",
     "status": "completed"
    },
    "tags": []
   },
   "outputs": [],
   "source": [
    "data['people']=(data.missing_people+data.refugees+data.child_alone).apply(lambda x: 1 if x>=2 else x)"
   ]
  },
  {
   "cell_type": "markdown",
   "id": "0c10eb24",
   "metadata": {
    "papermill": {
     "duration": 0.008124,
     "end_time": "2023-02-05T10:20:39.565747",
     "exception": false,
     "start_time": "2023-02-05T10:20:39.557623",
     "status": "completed"
    },
    "tags": []
   },
   "source": [
    "### --INFRASTRUCTURE-- buildings,transport,tools ,shops, electricity, other_infrastructure,hospitals,infrastructure_related"
   ]
  },
  {
   "cell_type": "code",
   "execution_count": 15,
   "id": "06687536",
   "metadata": {
    "execution": {
     "iopub.execute_input": "2023-02-05T10:20:39.585481Z",
     "iopub.status.busy": "2023-02-05T10:20:39.584784Z",
     "iopub.status.idle": "2023-02-05T10:20:39.604971Z",
     "shell.execute_reply": "2023-02-05T10:20:39.603758Z"
    },
    "papermill": {
     "duration": 0.033167,
     "end_time": "2023-02-05T10:20:39.607827",
     "exception": false,
     "start_time": "2023-02-05T10:20:39.574660",
     "status": "completed"
    },
    "tags": []
   },
   "outputs": [],
   "source": [
    "data['infrastructure']=(data.buildings+data.transport+data.tools+data.shops+data.electricity+data.other_infrastructure+data.hospitals+data.infrastructure_related).apply(lambda x: 1 if x>=2 else x)"
   ]
  },
  {
   "cell_type": "code",
   "execution_count": 16,
   "id": "4639cd81",
   "metadata": {
    "execution": {
     "iopub.execute_input": "2023-02-05T10:20:39.627213Z",
     "iopub.status.busy": "2023-02-05T10:20:39.626263Z",
     "iopub.status.idle": "2023-02-05T10:20:39.635547Z",
     "shell.execute_reply": "2023-02-05T10:20:39.634343Z"
    },
    "papermill": {
     "duration": 0.021313,
     "end_time": "2023-02-05T10:20:39.637891",
     "exception": false,
     "start_time": "2023-02-05T10:20:39.616578",
     "status": "completed"
    },
    "tags": []
   },
   "outputs": [
    {
     "data": {
      "text/plain": [
       "array([0, 1])"
      ]
     },
     "execution_count": 16,
     "metadata": {},
     "output_type": "execute_result"
    }
   ],
   "source": [
    "data['infrastructure'].unique()"
   ]
  },
  {
   "cell_type": "markdown",
   "id": "08b53c02",
   "metadata": {
    "papermill": {
     "duration": 0.008147,
     "end_time": "2023-02-05T10:20:39.654729",
     "exception": false,
     "start_time": "2023-02-05T10:20:39.646582",
     "status": "completed"
    },
    "tags": []
   },
   "source": [
    "### --NATURAL CALAMITIES-- storm, fire, cold, earthquake other_weather, floods, weather_related"
   ]
  },
  {
   "cell_type": "code",
   "execution_count": 17,
   "id": "6eb2a85b",
   "metadata": {
    "execution": {
     "iopub.execute_input": "2023-02-05T10:20:39.673297Z",
     "iopub.status.busy": "2023-02-05T10:20:39.672885Z",
     "iopub.status.idle": "2023-02-05T10:20:39.692344Z",
     "shell.execute_reply": "2023-02-05T10:20:39.691208Z"
    },
    "papermill": {
     "duration": 0.031792,
     "end_time": "2023-02-05T10:20:39.694917",
     "exception": false,
     "start_time": "2023-02-05T10:20:39.663125",
     "status": "completed"
    },
    "tags": []
   },
   "outputs": [],
   "source": [
    "data['natural_calamities']=(data['storm']+data['fire']+data['cold']+data['earthquake']+data['other_weather']+data['floods']).apply(lambda x: 1 if x>=2 else x)"
   ]
  },
  {
   "cell_type": "code",
   "execution_count": 18,
   "id": "5fe0ec79",
   "metadata": {
    "execution": {
     "iopub.execute_input": "2023-02-05T10:20:39.714258Z",
     "iopub.status.busy": "2023-02-05T10:20:39.713835Z",
     "iopub.status.idle": "2023-02-05T10:20:39.723344Z",
     "shell.execute_reply": "2023-02-05T10:20:39.722240Z"
    },
    "papermill": {
     "duration": 0.022026,
     "end_time": "2023-02-05T10:20:39.725645",
     "exception": false,
     "start_time": "2023-02-05T10:20:39.703619",
     "status": "completed"
    },
    "tags": []
   },
   "outputs": [
    {
     "data": {
      "text/plain": [
       "0    18944\n",
       "1     7304\n",
       "Name: natural_calamities, dtype: int64"
      ]
     },
     "execution_count": 18,
     "metadata": {},
     "output_type": "execute_result"
    }
   ],
   "source": [
    "data['natural_calamities'].value_counts()"
   ]
  },
  {
   "cell_type": "code",
   "execution_count": 19,
   "id": "c8278dbf",
   "metadata": {
    "execution": {
     "iopub.execute_input": "2023-02-05T10:20:39.745036Z",
     "iopub.status.busy": "2023-02-05T10:20:39.744641Z",
     "iopub.status.idle": "2023-02-05T10:20:39.751404Z",
     "shell.execute_reply": "2023-02-05T10:20:39.750321Z"
    },
    "papermill": {
     "duration": 0.019568,
     "end_time": "2023-02-05T10:20:39.753957",
     "exception": false,
     "start_time": "2023-02-05T10:20:39.734389",
     "status": "completed"
    },
    "tags": []
   },
   "outputs": [
    {
     "data": {
      "text/plain": [
       "8"
      ]
     },
     "execution_count": 19,
     "metadata": {},
     "output_type": "execute_result"
    }
   ],
   "source": [
    "len(data.columns)-36-1"
   ]
  },
  {
   "cell_type": "code",
   "execution_count": 20,
   "id": "d5886959",
   "metadata": {
    "execution": {
     "iopub.execute_input": "2023-02-05T10:20:39.773263Z",
     "iopub.status.busy": "2023-02-05T10:20:39.772868Z",
     "iopub.status.idle": "2023-02-05T10:20:39.791583Z",
     "shell.execute_reply": "2023-02-05T10:20:39.790293Z"
    },
    "papermill": {
     "duration": 0.031494,
     "end_time": "2023-02-05T10:20:39.794207",
     "exception": false,
     "start_time": "2023-02-05T10:20:39.762713",
     "status": "completed"
    },
    "tags": []
   },
   "outputs": [],
   "source": [
    "df=data[['natural_calamities','infrastructure','people','aid','distinct','essentials','medical','safety','vector']]"
   ]
  },
  {
   "cell_type": "code",
   "execution_count": 21,
   "id": "d1641b69",
   "metadata": {
    "execution": {
     "iopub.execute_input": "2023-02-05T10:20:39.814143Z",
     "iopub.status.busy": "2023-02-05T10:20:39.813227Z",
     "iopub.status.idle": "2023-02-05T10:20:39.819491Z",
     "shell.execute_reply": "2023-02-05T10:20:39.818693Z"
    },
    "papermill": {
     "duration": 0.018717,
     "end_time": "2023-02-05T10:20:39.821785",
     "exception": false,
     "start_time": "2023-02-05T10:20:39.803068",
     "status": "completed"
    },
    "tags": []
   },
   "outputs": [
    {
     "data": {
      "text/plain": [
       "(26248, 9)"
      ]
     },
     "execution_count": 21,
     "metadata": {},
     "output_type": "execute_result"
    }
   ],
   "source": [
    "df.shape"
   ]
  },
  {
   "cell_type": "code",
   "execution_count": 22,
   "id": "8cd29f32",
   "metadata": {
    "execution": {
     "iopub.execute_input": "2023-02-05T10:20:39.841633Z",
     "iopub.status.busy": "2023-02-05T10:20:39.841207Z",
     "iopub.status.idle": "2023-02-05T10:20:39.848060Z",
     "shell.execute_reply": "2023-02-05T10:20:39.847017Z"
    },
    "papermill": {
     "duration": 0.01939,
     "end_time": "2023-02-05T10:20:39.850249",
     "exception": false,
     "start_time": "2023-02-05T10:20:39.830859",
     "status": "completed"
    },
    "tags": []
   },
   "outputs": [
    {
     "data": {
      "text/plain": [
       "Index(['natural_calamities', 'infrastructure', 'people', 'aid', 'distinct',\n",
       "       'essentials', 'medical', 'safety', 'vector'],\n",
       "      dtype='object', name=0)"
      ]
     },
     "execution_count": 22,
     "metadata": {},
     "output_type": "execute_result"
    }
   ],
   "source": [
    "df.columns"
   ]
  },
  {
   "cell_type": "code",
   "execution_count": 23,
   "id": "689b398f",
   "metadata": {
    "execution": {
     "iopub.execute_input": "2023-02-05T10:20:39.869779Z",
     "iopub.status.busy": "2023-02-05T10:20:39.869329Z",
     "iopub.status.idle": "2023-02-05T10:20:40.077813Z",
     "shell.execute_reply": "2023-02-05T10:20:40.076252Z"
    },
    "papermill": {
     "duration": 0.22167,
     "end_time": "2023-02-05T10:20:40.080812",
     "exception": false,
     "start_time": "2023-02-05T10:20:39.859142",
     "status": "completed"
    },
    "tags": []
   },
   "outputs": [],
   "source": [
    "# f=open('final_dataset','wb')\n",
    "# pkl.dump(df,f)\n",
    "# f.close()\n",
    "# or\n",
    "df.to_pickle('final_dataset.pkl')"
   ]
  },
  {
   "cell_type": "code",
   "execution_count": 24,
   "id": "f25ce17b",
   "metadata": {
    "execution": {
     "iopub.execute_input": "2023-02-05T10:20:40.103943Z",
     "iopub.status.busy": "2023-02-05T10:20:40.102863Z",
     "iopub.status.idle": "2023-02-05T10:20:40.108349Z",
     "shell.execute_reply": "2023-02-05T10:20:40.107229Z"
    },
    "papermill": {
     "duration": 0.019899,
     "end_time": "2023-02-05T10:20:40.110975",
     "exception": false,
     "start_time": "2023-02-05T10:20:40.091076",
     "status": "completed"
    },
    "tags": []
   },
   "outputs": [],
   "source": [
    "# filehandler = open(\"Fruits.obj\",\"wb\")\n",
    "# pickle.dump(banana,filehandler)\n",
    "# filehandler.close()\n",
    "\n",
    "# file = open(\"Fruits.obj\",'rb')\n",
    "# object_file = pickle.load(file)\n",
    "# file.close()"
   ]
  }
 ],
 "metadata": {
  "kernelspec": {
   "display_name": "Python 3",
   "language": "python",
   "name": "python3"
  },
  "language_info": {
   "codemirror_mode": {
    "name": "ipython",
    "version": 3
   },
   "file_extension": ".py",
   "mimetype": "text/x-python",
   "name": "python",
   "nbconvert_exporter": "python",
   "pygments_lexer": "ipython3",
   "version": "3.7.12"
  },
  "papermill": {
   "default_parameters": {},
   "duration": 10.648855,
   "end_time": "2023-02-05T10:20:40.745154",
   "environment_variables": {},
   "exception": null,
   "input_path": "__notebook__.ipynb",
   "output_path": "__notebook__.ipynb",
   "parameters": {},
   "start_time": "2023-02-05T10:20:30.096299",
   "version": "2.3.4"
  }
 },
 "nbformat": 4,
 "nbformat_minor": 5
}
